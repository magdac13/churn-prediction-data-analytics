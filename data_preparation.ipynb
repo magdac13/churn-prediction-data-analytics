{
 "cells": [
  {
   "cell_type": "code",
   "execution_count": null,
   "metadata": {
    "collapsed": true
   },
   "outputs": [],
   "source": []
  },
  {
   "cell_type": "code",
   "execution_count": 2,
   "outputs": [
    {
     "data": {
      "text/plain": "   Client_ID     Attrition_Flag  Customer_Age Gender  Dependent_count  \\\n0  768805383  Existing Customer            45      M                3   \n1  818770008  Existing Customer            49      F                5   \n2  713982108  Existing Customer            51      M                3   \n3  769911858  Existing Customer            40      F                4   \n4  709106358  Existing Customer            40      M                3   \n\n  Education_Level Marital_Status Income_Category Card_Category  \\\n0     High School        Married     $60K - $80K          Blue   \n1        Graduate         Single  Less than $40K          Blue   \n2        Graduate        Married    $80K - $120K          Blue   \n3     High School        Unknown  Less than $40K          Blue   \n4      Uneducated        Married     $60K - $80K          Blue   \n\n   Months_on_book  ...  Months_Inactive_12_mon  Contacts_Count_12_mon  \\\n0              39  ...                       1                      3   \n1              44  ...                       1                      2   \n2              36  ...                       1                      0   \n3              34  ...                       4                      1   \n4              21  ...                       1                      0   \n\n   Credit_Limit  Total_Revolving_Bal  Avg_Open_To_Buy  Total_Amt_Chng_Q4_Q1  \\\n0       12691.0                  777          11914.0                 1.335   \n1        8256.0                  864           7392.0                 1.541   \n2        3418.0                    0           3418.0                 2.594   \n3        3313.0                 2517            796.0                 1.405   \n4        4716.0                    0           4716.0                 2.175   \n\n   Total_Trans_Amt  Total_Trans_Ct  Total_Ct_Chng_Q4_Q1  Avg_Utilization_Ratio  \n0             1144              42                1.625                  0.061  \n1             1291              33                3.714                  0.105  \n2             1887              20                2.333                  0.000  \n3             1171              20                2.333                  0.760  \n4              816              28                2.500                  0.000  \n\n[5 rows x 21 columns]",
      "text/html": "<div>\n<style scoped>\n    .dataframe tbody tr th:only-of-type {\n        vertical-align: middle;\n    }\n\n    .dataframe tbody tr th {\n        vertical-align: top;\n    }\n\n    .dataframe thead th {\n        text-align: right;\n    }\n</style>\n<table border=\"1\" class=\"dataframe\">\n  <thead>\n    <tr style=\"text-align: right;\">\n      <th></th>\n      <th>Client_ID</th>\n      <th>Attrition_Flag</th>\n      <th>Customer_Age</th>\n      <th>Gender</th>\n      <th>Dependent_count</th>\n      <th>Education_Level</th>\n      <th>Marital_Status</th>\n      <th>Income_Category</th>\n      <th>Card_Category</th>\n      <th>Months_on_book</th>\n      <th>...</th>\n      <th>Months_Inactive_12_mon</th>\n      <th>Contacts_Count_12_mon</th>\n      <th>Credit_Limit</th>\n      <th>Total_Revolving_Bal</th>\n      <th>Avg_Open_To_Buy</th>\n      <th>Total_Amt_Chng_Q4_Q1</th>\n      <th>Total_Trans_Amt</th>\n      <th>Total_Trans_Ct</th>\n      <th>Total_Ct_Chng_Q4_Q1</th>\n      <th>Avg_Utilization_Ratio</th>\n    </tr>\n  </thead>\n  <tbody>\n    <tr>\n      <th>0</th>\n      <td>768805383</td>\n      <td>Existing Customer</td>\n      <td>45</td>\n      <td>M</td>\n      <td>3</td>\n      <td>High School</td>\n      <td>Married</td>\n      <td>$60K - $80K</td>\n      <td>Blue</td>\n      <td>39</td>\n      <td>...</td>\n      <td>1</td>\n      <td>3</td>\n      <td>12691.0</td>\n      <td>777</td>\n      <td>11914.0</td>\n      <td>1.335</td>\n      <td>1144</td>\n      <td>42</td>\n      <td>1.625</td>\n      <td>0.061</td>\n    </tr>\n    <tr>\n      <th>1</th>\n      <td>818770008</td>\n      <td>Existing Customer</td>\n      <td>49</td>\n      <td>F</td>\n      <td>5</td>\n      <td>Graduate</td>\n      <td>Single</td>\n      <td>Less than $40K</td>\n      <td>Blue</td>\n      <td>44</td>\n      <td>...</td>\n      <td>1</td>\n      <td>2</td>\n      <td>8256.0</td>\n      <td>864</td>\n      <td>7392.0</td>\n      <td>1.541</td>\n      <td>1291</td>\n      <td>33</td>\n      <td>3.714</td>\n      <td>0.105</td>\n    </tr>\n    <tr>\n      <th>2</th>\n      <td>713982108</td>\n      <td>Existing Customer</td>\n      <td>51</td>\n      <td>M</td>\n      <td>3</td>\n      <td>Graduate</td>\n      <td>Married</td>\n      <td>$80K - $120K</td>\n      <td>Blue</td>\n      <td>36</td>\n      <td>...</td>\n      <td>1</td>\n      <td>0</td>\n      <td>3418.0</td>\n      <td>0</td>\n      <td>3418.0</td>\n      <td>2.594</td>\n      <td>1887</td>\n      <td>20</td>\n      <td>2.333</td>\n      <td>0.000</td>\n    </tr>\n    <tr>\n      <th>3</th>\n      <td>769911858</td>\n      <td>Existing Customer</td>\n      <td>40</td>\n      <td>F</td>\n      <td>4</td>\n      <td>High School</td>\n      <td>Unknown</td>\n      <td>Less than $40K</td>\n      <td>Blue</td>\n      <td>34</td>\n      <td>...</td>\n      <td>4</td>\n      <td>1</td>\n      <td>3313.0</td>\n      <td>2517</td>\n      <td>796.0</td>\n      <td>1.405</td>\n      <td>1171</td>\n      <td>20</td>\n      <td>2.333</td>\n      <td>0.760</td>\n    </tr>\n    <tr>\n      <th>4</th>\n      <td>709106358</td>\n      <td>Existing Customer</td>\n      <td>40</td>\n      <td>M</td>\n      <td>3</td>\n      <td>Uneducated</td>\n      <td>Married</td>\n      <td>$60K - $80K</td>\n      <td>Blue</td>\n      <td>21</td>\n      <td>...</td>\n      <td>1</td>\n      <td>0</td>\n      <td>4716.0</td>\n      <td>0</td>\n      <td>4716.0</td>\n      <td>2.175</td>\n      <td>816</td>\n      <td>28</td>\n      <td>2.500</td>\n      <td>0.000</td>\n    </tr>\n  </tbody>\n</table>\n<p>5 rows × 21 columns</p>\n</div>"
     },
     "execution_count": 2,
     "metadata": {},
     "output_type": "execute_result"
    }
   ],
   "source": [
    "import pandas as pd\n",
    "\n",
    "df = pd.read_csv('BankChurners.csv',\n",
    "                 sep=',',  # column separator\n",
    "                 header=0,  # file has headers\n",
    "                 encoding='utf-8',  # file encoding\n",
    "                 )\n",
    "\n",
    "df.head()  # print first 5 rows\n",
    "\n",
    "df = df.rename(columns={'CLIENTNUM': 'Client_ID'})\n",
    "df = df.drop(columns=[\n",
    "    'Naive_Bayes_Classifier_Attrition_Flag_Card_Category_Contacts_Count_12_mon_Dependent_count_Education_Level_Months_Inactive_12_mon_1', 'Naive_Bayes_Classifier_Attrition_Flag_Card_Category_Contacts_Count_12_mon_Dependent_count_Education_Level_Months_Inactive_12_mon_2'\n",
    "    ])\n",
    "\n",
    "df.head()\n"
   ],
   "metadata": {
    "collapsed": false
   }
  },
  {
   "cell_type": "code",
   "execution_count": 3,
   "outputs": [
    {
     "data": {
      "text/plain": "(10127, 21)"
     },
     "execution_count": 3,
     "metadata": {},
     "output_type": "execute_result"
    }
   ],
   "source": [
    "df.shape"
   ],
   "metadata": {
    "collapsed": false
   }
  },
  {
   "cell_type": "code",
   "execution_count": 4,
   "outputs": [
    {
     "data": {
      "text/plain": "          Client_ID  Customer_Age  Dependent_count  Months_on_book  \\\ncount  1.012700e+04  10127.000000     10127.000000    10127.000000   \nmean   7.391776e+08     46.325960         2.346203       35.928409   \nstd    3.690378e+07      8.016814         1.298908        7.986416   \nmin    7.080821e+08     26.000000         0.000000       13.000000   \n25%    7.130368e+08     41.000000         1.000000       31.000000   \n50%    7.179264e+08     46.000000         2.000000       36.000000   \n75%    7.731435e+08     52.000000         3.000000       40.000000   \nmax    8.283431e+08     73.000000         5.000000       56.000000   \n\n       Total_Relationship_Count  Months_Inactive_12_mon  \\\ncount              10127.000000            10127.000000   \nmean                   3.812580                2.341167   \nstd                    1.554408                1.010622   \nmin                    1.000000                0.000000   \n25%                    3.000000                2.000000   \n50%                    4.000000                2.000000   \n75%                    5.000000                3.000000   \nmax                    6.000000                6.000000   \n\n       Contacts_Count_12_mon  Credit_Limit  Total_Revolving_Bal  \\\ncount           10127.000000  10127.000000         10127.000000   \nmean                2.455317   8631.953698          1162.814061   \nstd                 1.106225   9088.776650           814.987335   \nmin                 0.000000   1438.300000             0.000000   \n25%                 2.000000   2555.000000           359.000000   \n50%                 2.000000   4549.000000          1276.000000   \n75%                 3.000000  11067.500000          1784.000000   \nmax                 6.000000  34516.000000          2517.000000   \n\n       Avg_Open_To_Buy  Total_Amt_Chng_Q4_Q1  Total_Trans_Amt  Total_Trans_Ct  \\\ncount     10127.000000          10127.000000     10127.000000    10127.000000   \nmean       7469.139637              0.759941      4404.086304       64.858695   \nstd        9090.685324              0.219207      3397.129254       23.472570   \nmin           3.000000              0.000000       510.000000       10.000000   \n25%        1324.500000              0.631000      2155.500000       45.000000   \n50%        3474.000000              0.736000      3899.000000       67.000000   \n75%        9859.000000              0.859000      4741.000000       81.000000   \nmax       34516.000000              3.397000     18484.000000      139.000000   \n\n       Total_Ct_Chng_Q4_Q1  Avg_Utilization_Ratio  \ncount         10127.000000           10127.000000  \nmean              0.712222               0.274894  \nstd               0.238086               0.275691  \nmin               0.000000               0.000000  \n25%               0.582000               0.023000  \n50%               0.702000               0.176000  \n75%               0.818000               0.503000  \nmax               3.714000               0.999000  ",
      "text/html": "<div>\n<style scoped>\n    .dataframe tbody tr th:only-of-type {\n        vertical-align: middle;\n    }\n\n    .dataframe tbody tr th {\n        vertical-align: top;\n    }\n\n    .dataframe thead th {\n        text-align: right;\n    }\n</style>\n<table border=\"1\" class=\"dataframe\">\n  <thead>\n    <tr style=\"text-align: right;\">\n      <th></th>\n      <th>Client_ID</th>\n      <th>Customer_Age</th>\n      <th>Dependent_count</th>\n      <th>Months_on_book</th>\n      <th>Total_Relationship_Count</th>\n      <th>Months_Inactive_12_mon</th>\n      <th>Contacts_Count_12_mon</th>\n      <th>Credit_Limit</th>\n      <th>Total_Revolving_Bal</th>\n      <th>Avg_Open_To_Buy</th>\n      <th>Total_Amt_Chng_Q4_Q1</th>\n      <th>Total_Trans_Amt</th>\n      <th>Total_Trans_Ct</th>\n      <th>Total_Ct_Chng_Q4_Q1</th>\n      <th>Avg_Utilization_Ratio</th>\n    </tr>\n  </thead>\n  <tbody>\n    <tr>\n      <th>count</th>\n      <td>1.012700e+04</td>\n      <td>10127.000000</td>\n      <td>10127.000000</td>\n      <td>10127.000000</td>\n      <td>10127.000000</td>\n      <td>10127.000000</td>\n      <td>10127.000000</td>\n      <td>10127.000000</td>\n      <td>10127.000000</td>\n      <td>10127.000000</td>\n      <td>10127.000000</td>\n      <td>10127.000000</td>\n      <td>10127.000000</td>\n      <td>10127.000000</td>\n      <td>10127.000000</td>\n    </tr>\n    <tr>\n      <th>mean</th>\n      <td>7.391776e+08</td>\n      <td>46.325960</td>\n      <td>2.346203</td>\n      <td>35.928409</td>\n      <td>3.812580</td>\n      <td>2.341167</td>\n      <td>2.455317</td>\n      <td>8631.953698</td>\n      <td>1162.814061</td>\n      <td>7469.139637</td>\n      <td>0.759941</td>\n      <td>4404.086304</td>\n      <td>64.858695</td>\n      <td>0.712222</td>\n      <td>0.274894</td>\n    </tr>\n    <tr>\n      <th>std</th>\n      <td>3.690378e+07</td>\n      <td>8.016814</td>\n      <td>1.298908</td>\n      <td>7.986416</td>\n      <td>1.554408</td>\n      <td>1.010622</td>\n      <td>1.106225</td>\n      <td>9088.776650</td>\n      <td>814.987335</td>\n      <td>9090.685324</td>\n      <td>0.219207</td>\n      <td>3397.129254</td>\n      <td>23.472570</td>\n      <td>0.238086</td>\n      <td>0.275691</td>\n    </tr>\n    <tr>\n      <th>min</th>\n      <td>7.080821e+08</td>\n      <td>26.000000</td>\n      <td>0.000000</td>\n      <td>13.000000</td>\n      <td>1.000000</td>\n      <td>0.000000</td>\n      <td>0.000000</td>\n      <td>1438.300000</td>\n      <td>0.000000</td>\n      <td>3.000000</td>\n      <td>0.000000</td>\n      <td>510.000000</td>\n      <td>10.000000</td>\n      <td>0.000000</td>\n      <td>0.000000</td>\n    </tr>\n    <tr>\n      <th>25%</th>\n      <td>7.130368e+08</td>\n      <td>41.000000</td>\n      <td>1.000000</td>\n      <td>31.000000</td>\n      <td>3.000000</td>\n      <td>2.000000</td>\n      <td>2.000000</td>\n      <td>2555.000000</td>\n      <td>359.000000</td>\n      <td>1324.500000</td>\n      <td>0.631000</td>\n      <td>2155.500000</td>\n      <td>45.000000</td>\n      <td>0.582000</td>\n      <td>0.023000</td>\n    </tr>\n    <tr>\n      <th>50%</th>\n      <td>7.179264e+08</td>\n      <td>46.000000</td>\n      <td>2.000000</td>\n      <td>36.000000</td>\n      <td>4.000000</td>\n      <td>2.000000</td>\n      <td>2.000000</td>\n      <td>4549.000000</td>\n      <td>1276.000000</td>\n      <td>3474.000000</td>\n      <td>0.736000</td>\n      <td>3899.000000</td>\n      <td>67.000000</td>\n      <td>0.702000</td>\n      <td>0.176000</td>\n    </tr>\n    <tr>\n      <th>75%</th>\n      <td>7.731435e+08</td>\n      <td>52.000000</td>\n      <td>3.000000</td>\n      <td>40.000000</td>\n      <td>5.000000</td>\n      <td>3.000000</td>\n      <td>3.000000</td>\n      <td>11067.500000</td>\n      <td>1784.000000</td>\n      <td>9859.000000</td>\n      <td>0.859000</td>\n      <td>4741.000000</td>\n      <td>81.000000</td>\n      <td>0.818000</td>\n      <td>0.503000</td>\n    </tr>\n    <tr>\n      <th>max</th>\n      <td>8.283431e+08</td>\n      <td>73.000000</td>\n      <td>5.000000</td>\n      <td>56.000000</td>\n      <td>6.000000</td>\n      <td>6.000000</td>\n      <td>6.000000</td>\n      <td>34516.000000</td>\n      <td>2517.000000</td>\n      <td>34516.000000</td>\n      <td>3.397000</td>\n      <td>18484.000000</td>\n      <td>139.000000</td>\n      <td>3.714000</td>\n      <td>0.999000</td>\n    </tr>\n  </tbody>\n</table>\n</div>"
     },
     "execution_count": 4,
     "metadata": {},
     "output_type": "execute_result"
    }
   ],
   "source": [
    "df.describe() # print descriptive statistics"
   ],
   "metadata": {
    "collapsed": false
   }
  },
  {
   "cell_type": "code",
   "execution_count": 5,
   "outputs": [],
   "source": [
    "df.to_csv(\n",
    "    './BankChurner_ColumnsRenamed.csv', # new file name\n",
    "    index=False,  # we don't want the row numbers'\n",
    "    sep=';'  # column separator\n",
    "    )\n"
   ],
   "metadata": {
    "collapsed": false
   }
  }
 ],
 "metadata": {
  "kernelspec": {
   "display_name": "Python 3",
   "language": "python",
   "name": "python3"
  },
  "language_info": {
   "codemirror_mode": {
    "name": "ipython",
    "version": 2
   },
   "file_extension": ".py",
   "mimetype": "text/x-python",
   "name": "python",
   "nbconvert_exporter": "python",
   "pygments_lexer": "ipython2",
   "version": "2.7.6"
  }
 },
 "nbformat": 4,
 "nbformat_minor": 0
}
